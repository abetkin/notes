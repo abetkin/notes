{
 "cells": [
  {
   "cell_type": "code",
   "execution_count": 58,
   "metadata": {},
   "outputs": [],
   "source": [
    "examples = '''\\\n",
    "X10. Z-4.6 R0.4 F0.023 X3 X5 Z -7\n",
    "'''\n",
    "\n",
    "reg_point = r'X-?[\\d.]+ Z-?[\\d.]+'"
   ]
  },
  {
   "cell_type": "code",
   "execution_count": 59,
   "metadata": {},
   "outputs": [
    {
     "data": {
      "text/plain": [
       "<_sre.SRE_Match object; span=(0, 10), match='X10. Z-4.6'>"
      ]
     },
     "execution_count": 59,
     "metadata": {},
     "output_type": "execute_result"
    }
   ],
   "source": [
    "import re\n",
    "re.match(reg_point, examples)"
   ]
  },
  {
   "cell_type": "code",
   "execution_count": 60,
   "metadata": {},
   "outputs": [],
   "source": [
    "_start = _15.end()"
   ]
  },
  {
   "cell_type": "code",
   "execution_count": 61,
   "metadata": {},
   "outputs": [
    {
     "data": {
      "text/plain": [
       "10"
      ]
     },
     "execution_count": 61,
     "metadata": {},
     "output_type": "execute_result"
    }
   ],
   "source": [
    "_start"
   ]
  },
  {
   "cell_type": "markdown",
   "metadata": {},
   "source": [
    "find next 3 spaces or X or Z\n",
    "\n",
    "next 5 statements"
   ]
  },
  {
   "cell_type": "code",
   "execution_count": 62,
   "metadata": {},
   "outputs": [],
   "source": [
    "from itertools import islice\n",
    "\n",
    "options = [\n",
    "    r'F[.\\d]+',\n",
    "    r'R[.\\d]+',\n",
    "]\n",
    "\n",
    "def next_statements(src, n=5):\n",
    "    # TODO\n",
    "    # {F: ..., start: ..., end: ...}\n",
    "    res = {}\n",
    "    #\n",
    "    #\n",
    "    value = None # of F\n",
    "    it = re.finditer(r'(\\S+)\\s', src)\n",
    "    for m in islice(it, n):\n",
    "        stmt = m.group(1)\n",
    "        print (stmt)\n",
    "        for opt in options:\n",
    "            if not re.match(opt, stmt):\n",
    "                continue\n",
    "            # matched\n",
    "            if stmt[0] == 'F':\n",
    "                value = float(stmt[1:])\n",
    "            break\n",
    "            \n",
    "        else:\n",
    "            # stop.\n",
    "            return res\n",
    "    raise NotImplementedError"
   ]
  },
  {
   "cell_type": "code",
   "execution_count": 63,
   "metadata": {},
   "outputs": [
    {
     "name": "stdout",
     "output_type": "stream",
     "text": [
      "R0.4\n",
      "F0.023\n",
      "X3\n"
     ]
    },
    {
     "data": {
      "text/plain": [
       "0.023"
      ]
     },
     "execution_count": 63,
     "metadata": {},
     "output_type": "execute_result"
    }
   ],
   "source": [
    "next_statements(examples[_start:])"
   ]
  },
  {
   "cell_type": "markdown",
   "metadata": {},
   "source": [
    "get_points()\n",
    "{value, type, start}\n",
    "format_point(state, point)"
   ]
  },
  {
   "cell_type": "code",
   "execution_count": 5,
   "metadata": {},
   "outputs": [
    {
     "data": {
      "text/plain": [
       "[<_sre.SRE_Match object; span=(0, 4), match='X23 '>,\n",
       " <_sre.SRE_Match object; span=(4, 8), match='Z-5\\n'>,\n",
       " <_sre.SRE_Match object; span=(8, 12), match='X.3 '>,\n",
       " <_sre.SRE_Match object; span=(12, 16), match='X.4\\n'>]"
      ]
     },
     "execution_count": 5,
     "metadata": {},
     "output_type": "execute_result"
    }
   ],
   "source": [
    "text = '''\\\n",
    "X23 Z-5\n",
    "X.3 X.4\n",
    "'''\n",
    "import re\n",
    "reg_any = r'([XZ])-?([.\\d]+)\\s'\n",
    "\n",
    "def get_points(text):\n",
    "    1\n",
    "\n",
    "li = list(re.finditer(reg_any, text))\n",
    "li"
   ]
  },
  {
   "cell_type": "code",
   "execution_count": 8,
   "metadata": {},
   "outputs": [
    {
     "data": {
      "text/plain": [
       "'X'"
      ]
     },
     "execution_count": 8,
     "metadata": {},
     "output_type": "execute_result"
    }
   ],
   "source": [
    "_5[-1].group(1)"
   ]
  },
  {
   "cell_type": "code",
   "execution_count": 9,
   "metadata": {},
   "outputs": [
    {
     "data": {
      "text/plain": [
       "(12, 12)"
      ]
     },
     "execution_count": 9,
     "metadata": {},
     "output_type": "execute_result"
    }
   ],
   "source": [
    "def parse(match):\n",
    "    return {\n",
    "        match.group(1): match.group(1),\n",
    "        \"start\": match.start(),\n",
    "        \"end\": match.end(),\n",
    "    }"
   ]
  },
  {
   "cell_type": "code",
   "execution_count": null,
   "metadata": {},
   "outputs": [],
   "source": [
    "# merge, change type"
   ]
  },
  {
   "cell_type": "code",
   "execution_count": null,
   "metadata": {},
   "outputs": [],
   "source": [
    "from itertools import izip, tee\n",
    "\n",
    "def pairwise(iterable):\n",
    "    \"s -> (s0,s1), (s1,s2), (s2, s3), ...\"\n",
    "    a, b = tee(iterable)\n",
    "    next(b, None)\n",
    "    return izip(a, b)\n",
    "\n",
    "text = '''\\\n",
    "X23 Z-5\n",
    "X.3 X.4\n",
    "'''\n",
    "import re\n",
    "reg_any = r'([XZ])-?([.\\d]+)\\s'\n",
    "\n",
    "points = [\n",
    "    parse(m)\n",
    "    for m in re.finditer(reg_any, text)\n",
    "]\n",
    "\n",
    "new_points = []\n",
    "skip = None\n",
    "for i, (a, b) in enumerate(pairwise(points)):\n",
    "    if i == skip:\n",
    "        continue\n",
    "    if a['end'] != b and b['start']:\n",
    "        new_points.append(a)\n",
    "        continue\n",
    "    di = {a, **b}\n",
    "    di['start'] = a['start']\n",
    "    di['end'] = b['end']\n",
    "    new_points.append(di)\n",
    "    skip = i + 1\n",
    "    \n",
    "        \n",
    "    "
   ]
  },
  {
   "cell_type": "code",
   "execution_count": 3,
   "metadata": {},
   "outputs": [],
   "source": [
    "# func\n",
    "\n",
    "li = [1] + [5] * 3 + [7]\n",
    "\n",
    "def counter(li):\n",
    "    dic = {}\n",
    "    last = None\n",
    "    for el in li:\n",
    "        if el == last:\n",
    "            dic[el] += 1\n",
    "        else:\n",
    "            dic[el] = 1\n",
    "            last = el\n",
    "    return dic"
   ]
  },
  {
   "cell_type": "code",
   "execution_count": 6,
   "metadata": {},
   "outputs": [
    {
     "data": {
      "text/plain": [
       "{1: 2}"
      ]
     },
     "execution_count": 6,
     "metadata": {},
     "output_type": "execute_result"
    }
   ],
   "source": [
    "counter([1, 1])"
   ]
  },
  {
   "cell_type": "code",
   "execution_count": null,
   "metadata": {},
   "outputs": [],
   "source": [
    "def merge_points(points):\n",
    "    new_points = []\n",
    "    end = None\n",
    "    for p in points:\n",
    "        if p['start'] == end:\n",
    "            # assert coords are different\n",
    "            for L in ('X', 'Y'):\n",
    "                assert L not in prev or L not in p\n",
    "            prev['end'] = p['end']\n",
    "            prev.setdefault('X', p.get('X'))\n",
    "            prev.setdefault('Y', p.get('Y'))\n",
    "            "
   ]
  }
 ],
 "metadata": {
  "kernelspec": {
   "display_name": "Python 3",
   "language": "python",
   "name": "python3"
  },
  "language_info": {
   "codemirror_mode": {
    "name": "ipython",
    "version": 3
   },
   "file_extension": ".py",
   "mimetype": "text/x-python",
   "name": "python",
   "nbconvert_exporter": "python",
   "pygments_lexer": "ipython3",
   "version": "3.6.3"
  }
 },
 "nbformat": 4,
 "nbformat_minor": 2
}
