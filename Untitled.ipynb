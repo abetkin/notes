{
 "cells": [
  {
   "cell_type": "code",
   "execution_count": 58,
   "metadata": {},
   "outputs": [],
   "source": [
    "examples = '''\\\n",
    "X10. Z-4.6 R0.4 F0.023 X3 X5 Z -7\n",
    "'''\n",
    "\n",
    "reg_point = r'X-?[\\d.]+ Z-?[\\d.]+'"
   ]
  },
  {
   "cell_type": "code",
   "execution_count": 59,
   "metadata": {},
   "outputs": [
    {
     "data": {
      "text/plain": [
       "<_sre.SRE_Match object; span=(0, 10), match='X10. Z-4.6'>"
      ]
     },
     "execution_count": 59,
     "metadata": {},
     "output_type": "execute_result"
    }
   ],
   "source": [
    "import re\n",
    "re.match(reg_point, examples)"
   ]
  },
  {
   "cell_type": "code",
   "execution_count": 60,
   "metadata": {},
   "outputs": [],
   "source": [
    "_start = _15.end()"
   ]
  },
  {
   "cell_type": "code",
   "execution_count": 61,
   "metadata": {},
   "outputs": [
    {
     "data": {
      "text/plain": [
       "10"
      ]
     },
     "execution_count": 61,
     "metadata": {},
     "output_type": "execute_result"
    }
   ],
   "source": [
    "_start"
   ]
  },
  {
   "cell_type": "markdown",
   "metadata": {},
   "source": [
    "find next 3 spaces or X or Z\n",
    "\n",
    "next 5 statements"
   ]
  },
  {
   "cell_type": "code",
   "execution_count": 62,
   "metadata": {},
   "outputs": [],
   "source": [
    "from itertools import islice\n",
    "\n",
    "options = [\n",
    "    r'F[.\\d]+',\n",
    "    r'R[.\\d]+',\n",
    "]\n",
    "\n",
    "def next_statements(src, n=5):\n",
    "    # TODO\n",
    "    # {F: ..., start: ..., end: ...}\n",
    "    res = {}\n",
    "    #\n",
    "    #\n",
    "    value = None # of F\n",
    "    it = re.finditer(r'(\\S+)\\s', src)\n",
    "    for m in islice(it, n):\n",
    "        stmt = m.group(1)\n",
    "        print (stmt)\n",
    "        for opt in options:\n",
    "            if not re.match(opt, stmt):\n",
    "                continue\n",
    "            # matched\n",
    "            if stmt[0] == 'F':\n",
    "                value = float(stmt[1:])\n",
    "            break\n",
    "            \n",
    "        else:\n",
    "            # stop.\n",
    "            return res\n",
    "    raise NotImplementedError"
   ]
  },
  {
   "cell_type": "code",
   "execution_count": 63,
   "metadata": {},
   "outputs": [
    {
     "name": "stdout",
     "output_type": "stream",
     "text": [
      "R0.4\n",
      "F0.023\n",
      "X3\n"
     ]
    },
    {
     "data": {
      "text/plain": [
       "0.023"
      ]
     },
     "execution_count": 63,
     "metadata": {},
     "output_type": "execute_result"
    }
   ],
   "source": [
    "next_statements(examples[_start:])"
   ]
  },
  {
   "cell_type": "markdown",
   "metadata": {},
   "source": [
    "get_points()\n",
    "{value, type, start}\n",
    "format_point(state, point)"
   ]
  },
  {
   "cell_type": "code",
   "execution_count": null,
   "metadata": {},
   "outputs": [],
   "source": []
  }
 ],
 "metadata": {
  "kernelspec": {
   "display_name": "Python 3",
   "language": "python",
   "name": "python3"
  },
  "language_info": {
   "codemirror_mode": {
    "name": "ipython",
    "version": 3
   },
   "file_extension": ".py",
   "mimetype": "text/x-python",
   "name": "python",
   "nbconvert_exporter": "python",
   "pygments_lexer": "ipython3",
   "version": "3.6.3"
  }
 },
 "nbformat": 4,
 "nbformat_minor": 2
}
